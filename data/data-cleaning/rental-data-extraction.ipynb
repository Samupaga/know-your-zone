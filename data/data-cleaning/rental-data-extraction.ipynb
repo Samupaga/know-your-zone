{
 "cells": [
  {
   "cell_type": "code",
   "execution_count": 32,
   "metadata": {},
   "outputs": [],
   "source": [
    "import pandas as pd"
   ]
  },
  {
   "cell_type": "code",
   "execution_count": 33,
   "metadata": {},
   "outputs": [],
   "source": [
    "boroughs = ['Camden', 'Hackney', 'Hammersmith and Fulham', 'Haringey', 'Islington', 'Kensington and Chelsea', 'Lambeth', 'Lewisham', 'Newham', 'Southwark', 'Tower Hamlets', 'Wandsworth', 'Westminster', 'Barking and Dagenham', 'Barnet', 'Bexley', 'Brent', 'Bromley', 'Croydon', 'Ealing', 'Enfield', 'Greenwich', 'Harrow', 'Havering', 'Hillingdon', 'Hounslow', 'Kingston upon Thames', 'Merton', 'Redbridge', 'Richmond upon Thames', 'Sutton', 'Waltham Forest']"
   ]
  },
  {
   "cell_type": "code",
   "execution_count": 34,
   "metadata": {},
   "outputs": [],
   "source": [
    "# period_start = \"01-10-2018\"\n",
    "# period_end = \"30-09-2019\"\n",
    "def process_rental_data(filepath, period_start, period_end):\n",
    "    # print(f'{filepath=}')\n",
    "    with pd.ExcelFile(filepath) as input_file:\n",
    "        # print(f'{input_file=}')\n",
    "        sheets = [s for s in input_file.sheet_names if s.startswith(('Table2', 'Table 2'))]\n",
    "        for sheet in sheets:\n",
    "            property_type = pd.read_excel(input_file, sheet_name=sheet, header=None, usecols=\"E\", skiprows=lambda x: x != 5).iat[0, 0]\n",
    "\n",
    "            # print(f'{property_type=}')\n",
    "            # exit()\n",
    "\n",
    "            data = pd.read_excel(input_file, sheet_name=sheet, usecols=\"D,F,H\", na_values=['.', '..'], skiprows=lambda x: x not in range(6, 364))\n",
    "\n",
    "            is_london_borough = [x in boroughs for x in data['Area']]\n",
    "            # print(is_london_borough)\n",
    "            filtered_by_borough = data[is_london_borough].copy()\n",
    "\n",
    "            filtered_by_borough['Period Start Date'] = period_start\n",
    "            filtered_by_borough['Period End Date'] = period_end\n",
    "            filtered_by_borough['Property Type'] = property_type\n",
    "\n",
    "            # display(filtered_by_borough)\n",
    "\n",
    "            output_file = \"./converted_data/rent_data.csv\"\n",
    "            if not isfile(output_file):\n",
    "                filtered_by_borough.to_csv(output_file, index=False)\n",
    "            else:\n",
    "                filtered_by_borough.to_csv(output_file, index=False, mode='a', header=False)"
   ]
  },
  {
   "cell_type": "code",
   "execution_count": 35,
   "metadata": {},
   "outputs": [],
   "source": [
    "from os import listdir\n",
    "from os.path import isfile, join"
   ]
  },
  {
   "cell_type": "code",
   "execution_count": 36,
   "metadata": {},
   "outputs": [],
   "source": [
    "import re\n",
    "def split_date(date_string):\n",
    "    return date_string[4:] + '/' + date_string[2:4] + '/' + date_string[:2]\n",
    "\n",
    "def parse_rental_data_dates(filename):\n",
    "    date_range = re.search(\"(\\d{8})-(\\d{8})\", filename)\n",
    "    start_date = split_date(date_range.group(1))\n",
    "    end_date = split_date(date_range.group(2))\n",
    "\n",
    "    return [start_date, end_date]"
   ]
  },
  {
   "cell_type": "code",
   "execution_count": 37,
   "metadata": {},
   "outputs": [],
   "source": [
    "rental_data_path = \"./raw-data/rental-data/\"\n",
    "rental_file_paths = [file for file in listdir(rental_data_path) if isfile(join(rental_data_path, file))]\n",
    "\n",
    "for filename in rental_file_paths:\n",
    "    start_date, end_date = parse_rental_data_dates(filename)\n",
    "    process_rental_data(join(rental_data_path, filename), start_date, end_date)"
   ]
  }
 ],
 "metadata": {
  "kernelspec": {
   "display_name": "Python 3.10.6 64-bit",
   "language": "python",
   "name": "python3"
  },
  "language_info": {
   "codemirror_mode": {
    "name": "ipython",
    "version": 3
   },
   "file_extension": ".py",
   "mimetype": "text/x-python",
   "name": "python",
   "nbconvert_exporter": "python",
   "pygments_lexer": "ipython3",
   "version": "3.10.6"
  },
  "orig_nbformat": 4,
  "vscode": {
   "interpreter": {
    "hash": "e1a89ea32b6b48a65445279fe762d967aa21d9984c736492bdb167b6f64ecc21"
   }
  }
 },
 "nbformat": 4,
 "nbformat_minor": 2
}

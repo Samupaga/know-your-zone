{
 "cells": [
  {
   "cell_type": "code",
   "execution_count": 21,
   "metadata": {},
   "outputs": [],
   "source": [
    "import pandas as pd\n",
    "from os.path import isfile"
   ]
  },
  {
   "cell_type": "code",
   "execution_count": 22,
   "metadata": {},
   "outputs": [],
   "source": [
    "boroughs = ['Camden', 'Hackney', 'Hammersmith and Fulham', 'Haringey', 'Islington', 'Kensington and Chelsea', 'Lambeth', 'Lewisham', 'Newham', 'Southwark', 'Tower Hamlets', 'Wandsworth', 'Westminster', 'Barking and Dagenham', 'Barnet', 'Bexley', 'Brent', 'Bromley', 'Croydon', 'Ealing', 'Enfield', 'Greenwich', 'Harrow', 'Havering', 'Hillingdon', 'Hounslow', 'Kingston upon Thames', 'Merton', 'Redbridge', 'Richmond upon Thames', 'Sutton', 'Waltham Forest']"
   ]
  },
  {
   "cell_type": "code",
   "execution_count": 23,
   "metadata": {},
   "outputs": [],
   "source": [
    "def convert_date(date):\n",
    "    return '01/' + date[-2:] + '/' + date[:-2]"
   ]
  },
  {
   "cell_type": "code",
   "execution_count": 24,
   "metadata": {},
   "outputs": [],
   "source": [
    "def process_crime_data(filepath):\n",
    "    crime_data = pd.read_csv(filepath, usecols=lambda x: x != 'MinorText')\n",
    "\n",
    "    is_london_borough = [x in boroughs for x in crime_data['LookUp_BoroughName']]\n",
    "    crime_data_london_boroughs = crime_data[is_london_borough].copy()\n",
    "\n",
    "    # display(crime_data)\n",
    "\n",
    "    output_file = \"./converted_data/crime_data.csv\"\n",
    "\n",
    "    for date in crime_data_london_boroughs.columns[2:]:\n",
    "        data_subset = crime_data_london_boroughs[['MajorText', 'LookUp_BoroughName', date]].copy()\n",
    "        data_subset.rename(columns = {'MajorText': \"Crime Type\", \"LookUp_BoroughName\": 'Borough Name', date: 'Count'}, inplace=True)\n",
    "        data_subset['Period'] = convert_date(date)\n",
    "        grouped_data = data_subset.groupby(['Crime Type', 'Borough Name', 'Period'], as_index=False).sum()\n",
    "        # grouped_data = pd.DataFrame(grouped_data)\n",
    "        # display(grouped_data)\n",
    "\n",
    "        if not isfile(output_file):\n",
    "            grouped_data.to_csv(output_file, index=False)\n",
    "        else:\n",
    "            grouped_data.to_csv(output_file, index=False, mode='a', header=False)"
   ]
  },
  {
   "cell_type": "code",
   "execution_count": 25,
   "metadata": {},
   "outputs": [],
   "source": [
    "from os import listdir\n",
    "from os.path import isfile, join\n",
    "\n",
    "data_path = \"./raw-data/crime-data\"\n",
    "\n",
    "datafile_names = listdir(data_path)\n",
    "if len(datafile_names) != 1:\n",
    "    raise ValueError(\"More than 1 crime data file found\")\n",
    "elif not isfile(join(data_path, datafile_names[0])):\n",
    "    raise TypeError(\"No data file found\")\n",
    "else:\n",
    "    datafile_path = join(data_path, datafile_names[0])\n",
    "    process_crime_data(datafile_path)"
   ]
  }
 ],
 "metadata": {
  "kernelspec": {
   "display_name": "Python 3.10.6 64-bit",
   "language": "python",
   "name": "python3"
  },
  "language_info": {
   "codemirror_mode": {
    "name": "ipython",
    "version": 3
   },
   "file_extension": ".py",
   "mimetype": "text/x-python",
   "name": "python",
   "nbconvert_exporter": "python",
   "pygments_lexer": "ipython3",
   "version": "3.10.6"
  },
  "orig_nbformat": 4,
  "vscode": {
   "interpreter": {
    "hash": "e1a89ea32b6b48a65445279fe762d967aa21d9984c736492bdb167b6f64ecc21"
   }
  }
 },
 "nbformat": 4,
 "nbformat_minor": 2
}
